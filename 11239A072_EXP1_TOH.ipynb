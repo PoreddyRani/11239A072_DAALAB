{
  "nbformat": 4,
  "nbformat_minor": 0,
  "metadata": {
    "colab": {
      "provenance": [],
      "authorship_tag": "ABX9TyPiXmsJYgAPUAuPLQBvN9hB",
      "include_colab_link": true
    },
    "kernelspec": {
      "name": "python3",
      "display_name": "Python 3"
    },
    "language_info": {
      "name": "python"
    }
  },
  "cells": [
    {
      "cell_type": "markdown",
      "metadata": {
        "id": "view-in-github",
        "colab_type": "text"
      },
      "source": [
        "<a href=\"https://colab.research.google.com/github/PoreddyRani/11239A072_DAALAB/blob/main/11239A072_EXP1_TOH.ipynb\" target=\"_parent\"><img src=\"https://colab.research.google.com/assets/colab-badge.svg\" alt=\"Open In Colab\"/></a>"
      ]
    },
    {
      "cell_type": "code",
      "execution_count": 1,
      "metadata": {
        "colab": {
          "base_uri": "https://localhost:8080/"
        },
        "id": "ruJnzZyFuGdC",
        "outputId": "6356f13a-9e95-46cc-94f6-838713bebc9d"
      },
      "outputs": [
        {
          "output_type": "stream",
          "name": "stdout",
          "text": [
            "enter a number3\n",
            "move disk 1 from atoc\n",
            "move disk 2 from atob\n",
            "move disk 1 from ctob\n",
            "move disk 3 from atoc\n",
            "move disk 1 from btoa\n",
            "move disk 2 from btoc\n",
            "move disk 1 from atoc\n"
          ]
        }
      ],
      "source": [
        "def tower(n,source,aux,target):\n",
        "    if n==1:\n",
        "        print(f\"move disk 1 from {source}to{target}\")\n",
        "        return\n",
        "    tower(n-1,source,target,aux)\n",
        "    print(f\"move disk {n} from {source}to{target}\")\n",
        "    tower(n-1,aux,source,target)\n",
        "if __name__ == \"__main__\":\n",
        "    n=int(input(\"enter a number\"))\n",
        "    tower(n,'a','b','c')\n"
      ]
    }
  ]
}